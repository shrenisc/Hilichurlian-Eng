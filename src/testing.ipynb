{
 "cells": [
  {
   "cell_type": "code",
   "execution_count": 42,
   "metadata": {
    "metadata": {}
   },
   "outputs": [],
   "source": [
    "from model import Translator\n",
    "from dataset import TextDataset\n",
    "import torch\n",
    "import tqdm\n",
    "from tokenizers import Tokenizer\n",
    "import os"
   ]
  },
  {
   "cell_type": "code",
   "execution_count": 43,
   "metadata": {
    "metadata": {}
   },
   "outputs": [
    {
     "name": "stdout",
     "output_type": "stream",
     "text": [
      "Using PyTorch version 2.2.1\n",
      "Using device cuda\n"
     ]
    }
   ],
   "source": [
    "\n",
    "print(f\"Using PyTorch version {torch.__version__}\")\n",
    "\n",
    "# use gpu if available\n",
    "device = torch.device(\"cuda\" if torch.cuda.is_available() else \"cpu\")\n",
    "print(f\"Using device {device}\")\n",
    "\n",
    "# use tensor cores\n",
    "torch.set_float32_matmul_precision('high')\n",
    "\n",
    "# use flash attention\n",
    "torch.backends.cuda.enable_flash_sdp(True)\n",
    "torch.backends.cuda.enable_mem_efficient_sdp(True)\n",
    "torch.backends.cuda.enable_math_sdp(True)"
   ]
  },
  {
   "cell_type": "code",
   "execution_count": 44,
   "metadata": {
    "metadata": {}
   },
   "outputs": [
    {
     "data": {
      "text/plain": [
       "Translator(\n",
       "  (engEmbedding): Embedding(804, 256)\n",
       "  (hilliEmbedding): Embedding(292, 256)\n",
       "  (decoder_block): ModuleList(\n",
       "    (0-7): 8 x Decoder(\n",
       "      (feed_forward): Sequential(\n",
       "        (0): Dropout(p=0.1, inplace=False)\n",
       "        (1): Linear(in_features=256, out_features=512, bias=False)\n",
       "        (2): ReLU()\n",
       "        (3): Linear(in_features=512, out_features=256, bias=False)\n",
       "        (4): ReLU()\n",
       "      )\n",
       "      (layernorm): RMSNorm()\n",
       "      (layernorm2): RMSNorm()\n",
       "      (layernorm3): RMSNorm()\n",
       "      (MHA): SelfAttention(\n",
       "        (c_attn): Linear(in_features=256, out_features=768, bias=False)\n",
       "        (c_proj): Linear(in_features=256, out_features=256, bias=False)\n",
       "        (resid_dropout): Dropout(p=0.1, inplace=False)\n",
       "      )\n",
       "      (CA): CrossAttention(\n",
       "        (query_attn): Linear(in_features=256, out_features=256, bias=False)\n",
       "        (key_attn): Linear(in_features=256, out_features=256, bias=False)\n",
       "        (value_attn): Linear(in_features=256, out_features=256, bias=False)\n",
       "        (c_proj): Linear(in_features=256, out_features=256, bias=False)\n",
       "        (resid_dropout): Dropout(p=0.1, inplace=False)\n",
       "      )\n",
       "    )\n",
       "  )\n",
       "  (encoder_block): ModuleList(\n",
       "    (0-7): 8 x Encoder(\n",
       "      (feed_forward): Sequential(\n",
       "        (0): Dropout(p=0.1, inplace=False)\n",
       "        (1): Linear(in_features=256, out_features=512, bias=False)\n",
       "        (2): ReLU()\n",
       "        (3): Linear(in_features=512, out_features=256, bias=False)\n",
       "        (4): ReLU()\n",
       "      )\n",
       "      (layernorm): RMSNorm()\n",
       "      (layernorm2): RMSNorm()\n",
       "      (MHA): SelfAttention(\n",
       "        (c_attn): Linear(in_features=256, out_features=768, bias=False)\n",
       "        (c_proj): Linear(in_features=256, out_features=256, bias=False)\n",
       "        (resid_dropout): Dropout(p=0.1, inplace=False)\n",
       "      )\n",
       "    )\n",
       "  )\n",
       "  (dense): Linear(in_features=256, out_features=804, bias=False)\n",
       ")"
      ]
     },
     "execution_count": 44,
     "metadata": {},
     "output_type": "execute_result"
    }
   ],
   "source": [
    "model = torch.load(\"../models/model.pt\")\n",
    "model.eval()"
   ]
  },
  {
   "cell_type": "code",
   "execution_count": 45,
   "metadata": {
    "metadata": {}
   },
   "outputs": [],
   "source": [
    "def generate(sentence):\n",
    "    hilliTokenizer = Tokenizer.from_file(\"../models/hilliTokenizer.json\")\n",
    "    engTokenizer = Tokenizer.from_file(\"../models/englighTokenizer.json\")\n",
    "    sentence = hilliTokenizer.encode(sentence).ids\n",
    "    sentence = torch.tensor(\n",
    "        sentence, dtype=torch.int64).unsqueeze(0).to(device)\n",
    "    currentOutput = [0]\n",
    "    model.eval()\n",
    "    for i in range(100):\n",
    "        x = torch.tensor(\n",
    "            currentOutput, dtype=torch.int64).unsqueeze(0).to(device)\n",
    "        # print(x, sentence)\n",
    "        output = model(x=x, originalText=sentence, return_loss=False)\n",
    "        output = torch.argmax(output[0][-1]).item()\n",
    "        currentOutput.append(output)\n",
    "        if (output == 1):\n",
    "            break\n",
    "    currentOutput = engTokenizer.decode(currentOutput)\n",
    "    model.train()\n",
    "    return currentOutput\n"
   ]
  },
  {
   "cell_type": "code",
   "execution_count": 46,
   "metadata": {
    "metadata": {}
   },
   "outputs": [
    {
     "data": {
      "text/plain": [
       "'I hate myself.'"
      ]
     },
     "execution_count": 46,
     "metadata": {},
     "output_type": "execute_result"
    }
   ],
   "source": [
    "generate(\"Mi Muhe Nye Mi Muhe Beru.\") #I hate what I do"
   ]
  },
  {
   "cell_type": "code",
   "execution_count": 47,
   "metadata": {
    "metadata": {}
   },
   "outputs": [
    {
     "data": {
      "text/plain": [
       "'What are your two friends doing?'"
      ]
     },
     "execution_count": 47,
     "metadata": {},
     "output_type": "execute_result"
    }
   ],
   "source": [
    "generate(\"Unu Du Tomo Beru Si?\") #What are your two friends doing?"
   ]
  },
  {
   "cell_type": "code",
   "execution_count": 48,
   "metadata": {
    "metadata": {}
   },
   "outputs": [
    {
     "data": {
      "text/plain": [
       "'I like green.'"
      ]
     },
     "execution_count": 48,
     "metadata": {},
     "output_type": "execute_result"
    }
   ],
   "source": [
    "generate(\"Mi muhe Gusha Boya.\") # I like green."
   ]
  },
  {
   "cell_type": "code",
   "execution_count": 49,
   "metadata": {
    "metadata": {}
   },
   "outputs": [
    {
     "data": {
      "text/plain": [
       "'I want the sun to be gone, I appreciate the cold.'"
      ]
     },
     "execution_count": 49,
     "metadata": {},
     "output_type": "execute_result"
    }
   ],
   "source": [
    "generate(\"Mi muhe Mi Muhe Upa Celi Nini, mi muhe Lata.\") #I wish for the sun to be gone, I appreciate the cold."
   ]
  },
  {
   "cell_type": "code",
   "execution_count": 50,
   "metadata": {
    "metadata": {}
   },
   "outputs": [
    {
     "data": {
      "text/plain": [
       "tensor([[[0.0009, 0.0004, 0.0009,  ..., 0.0009, 0.0007, 0.0009],\n",
       "         [0.0003, 0.0003, 0.0003,  ..., 0.0001, 0.0001, 0.0003],\n",
       "         [0.0009, 0.0019, 0.0009,  ..., 0.0007, 0.0007, 0.0009],\n",
       "         ...,\n",
       "         [0.0005, 0.0008, 0.0005,  ..., 0.0002, 0.0005, 0.0005],\n",
       "         [0.0006, 0.0003, 0.0006,  ..., 0.0003, 0.0004, 0.0006],\n",
       "         [0.0010, 0.0005, 0.0010,  ..., 0.0004, 0.0010, 0.0010]]],\n",
       "       device='cuda:0', grad_fn=<SoftmaxBackward0>)"
      ]
     },
     "execution_count": 50,
     "metadata": {},
     "output_type": "execute_result"
    }
   ],
   "source": [
    "model(torch.tensor([[0, 46, 289, 12, 89, 207, 303, 46, 207, 141]]).cuda(), torch.tensor([[0, 126, 228, 229, 126, 228, 237,  19, 1]]).cuda())"
   ]
  },
  {
   "cell_type": "code",
   "execution_count": 51,
   "metadata": {
    "metadata": {}
   },
   "outputs": [
    {
     "name": "stderr",
     "output_type": "stream",
     "text": [
      "/home/abdulamaan/miniconda3/envs/pytorch_stuff/lib/python3.10/site-packages/torch/jit/_trace.py:1102: TracerWarning: Output nr 1. of the traced function does not match the corresponding output of the Python function. Detailed error:\n",
      "Tensor-likes are not close!\n",
      "\n",
      "Mismatched elements: 7731 / 8040 (96.2%)\n",
      "Greatest absolute difference: 0.14842529594898224 at index (0, 6, 46) (up to 1e-05 allowed)\n",
      "Greatest relative difference: 8.814609684077373 at index (0, 5, 46) (up to 1e-05 allowed)\n",
      "  _check_trace(\n"
     ]
    }
   ],
   "source": [
    "model = torch.jit.trace(model, (torch.tensor([[0, 46, 289, 12, 89, 207, 303, 46, 207, 141]]).cuda(), torch.tensor([[0, 126, 228, 229, 126, 228, 237,  19, 1]]).cuda()))"
   ]
  },
  {
   "cell_type": "code",
   "execution_count": 52,
   "metadata": {
    "metadata": {}
   },
   "outputs": [],
   "source": [
    "model = torch.jit.script(model)"
   ]
  },
  {
   "cell_type": "code",
   "execution_count": null,
   "metadata": {},
   "outputs": [],
   "source": []
  }
 ],
 "metadata": {
  "kernelspec": {
   "display_name": "Python 3",
   "language": "python",
   "name": "python3"
  },
  "language_info": {
   "codemirror_mode": {
    "name": "ipython",
    "version": 3
   },
   "file_extension": ".py",
   "mimetype": "text/x-python",
   "name": "python",
   "nbconvert_exporter": "python",
   "pygments_lexer": "ipython3",
   "version": "3.12.3"
  }
 },
 "nbformat": 4,
 "nbformat_minor": 2
}
