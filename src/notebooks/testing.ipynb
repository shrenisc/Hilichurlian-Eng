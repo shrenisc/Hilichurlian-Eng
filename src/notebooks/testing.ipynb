{
 "cells": [
  {
   "cell_type": "code",
   "execution_count": 1,
   "metadata": {
    "metadata": {}
   },
   "outputs": [],
   "source": [
    "from model import Translator\n",
    "from dataset import TextDataset\n",
    "import torch\n",
    "import tqdm\n",
    "from tokenizers import Tokenizer\n",
    "import os"
   ]
  },
  {
   "cell_type": "code",
   "execution_count": 2,
   "metadata": {
    "metadata": {}
   },
   "outputs": [
    {
     "name": "stdout",
     "output_type": "stream",
     "text": [
      "Using PyTorch version 2.3.0+cu121\n",
      "Using device cuda\n"
     ]
    }
   ],
   "source": [
    "\n",
    "print(f\"Using PyTorch version {torch.__version__}\")\n",
    "\n",
    "# use gpu if available\n",
    "device = torch.device(\"cuda\" if torch.cuda.is_available() else \"cpu\")\n",
    "print(f\"Using device {device}\")\n",
    "\n",
    "# use tensor cores\n",
    "torch.set_float32_matmul_precision('high')\n",
    "\n",
    "# use flash attention\n",
    "torch.backends.cuda.enable_flash_sdp(True)\n",
    "torch.backends.cuda.enable_mem_efficient_sdp(True)\n",
    "torch.backends.cuda.enable_math_sdp(True)"
   ]
  },
  {
   "cell_type": "code",
   "execution_count": 3,
   "metadata": {
    "metadata": {}
   },
   "outputs": [
    {
     "data": {
      "text/plain": [
       "Translator(\n",
       "  (engEmbedding): Embedding(804, 256)\n",
       "  (hilliEmbedding): Embedding(292, 256)\n",
       "  (decoder_block): ModuleList(\n",
       "    (0-4): 5 x Decoder(\n",
       "      (feed_forward): Sequential(\n",
       "        (0): Dropout(p=0.1, inplace=False)\n",
       "        (1): Linear(in_features=256, out_features=512, bias=False)\n",
       "        (2): ReLU()\n",
       "        (3): Linear(in_features=512, out_features=256, bias=False)\n",
       "        (4): ReLU()\n",
       "      )\n",
       "      (layernorm): RMSNorm()\n",
       "      (layernorm2): RMSNorm()\n",
       "      (layernorm3): RMSNorm()\n",
       "      (MHA): SelfAttention(\n",
       "        (c_attn): Linear(in_features=256, out_features=768, bias=False)\n",
       "        (c_proj): Linear(in_features=256, out_features=256, bias=False)\n",
       "        (resid_dropout): Dropout(p=0.1, inplace=False)\n",
       "      )\n",
       "      (CA): CrossAttention(\n",
       "        (query_attn): Linear(in_features=256, out_features=256, bias=False)\n",
       "        (key_attn): Linear(in_features=256, out_features=256, bias=False)\n",
       "        (value_attn): Linear(in_features=256, out_features=256, bias=False)\n",
       "        (c_proj): Linear(in_features=256, out_features=256, bias=False)\n",
       "        (resid_dropout): Dropout(p=0.1, inplace=False)\n",
       "      )\n",
       "    )\n",
       "  )\n",
       "  (encoder_block): ModuleList(\n",
       "    (0-4): 5 x Encoder(\n",
       "      (feed_forward): Sequential(\n",
       "        (0): Dropout(p=0.1, inplace=False)\n",
       "        (1): Linear(in_features=256, out_features=512, bias=False)\n",
       "        (2): ReLU()\n",
       "        (3): Linear(in_features=512, out_features=256, bias=False)\n",
       "        (4): ReLU()\n",
       "      )\n",
       "      (layernorm): RMSNorm()\n",
       "      (layernorm2): RMSNorm()\n",
       "      (MHA): SelfAttention(\n",
       "        (c_attn): Linear(in_features=256, out_features=768, bias=False)\n",
       "        (c_proj): Linear(in_features=256, out_features=256, bias=False)\n",
       "        (resid_dropout): Dropout(p=0.1, inplace=False)\n",
       "      )\n",
       "    )\n",
       "  )\n",
       "  (dense): Linear(in_features=256, out_features=804, bias=False)\n",
       ")"
      ]
     },
     "execution_count": 3,
     "metadata": {},
     "output_type": "execute_result"
    }
   ],
   "source": [
    "model = torch.load(\"../models/model.pt\")\n",
    "model.eval()"
   ]
  },
  {
   "cell_type": "code",
   "execution_count": 4,
   "metadata": {
    "metadata": {}
   },
   "outputs": [],
   "source": [
    "def generate(sentence):\n",
    "    hilliTokenizer = Tokenizer.from_file(\"../models/hilliTokenizer.json\")\n",
    "    engTokenizer = Tokenizer.from_file(\"../models/englighTokenizer.json\")\n",
    "    sentence = hilliTokenizer.encode(sentence).ids\n",
    "    sentence = torch.tensor(\n",
    "        sentence, dtype=torch.int64).unsqueeze(0).to(device)\n",
    "    currentOutput = [0]\n",
    "    model.eval()\n",
    "    for i in range(100):\n",
    "        x = torch.tensor(\n",
    "            currentOutput, dtype=torch.int64).unsqueeze(0).to(device)\n",
    "        # print(x, sentence)\n",
    "        output = model(x=x, originalText=sentence, return_loss=False)\n",
    "        output = torch.argmax(output[0][-1]).item()\n",
    "        currentOutput.append(output)\n",
    "        if (output == 1):\n",
    "            break\n",
    "    currentOutput = engTokenizer.decode(currentOutput)\n",
    "    model.train()\n",
    "    return currentOutput\n"
   ]
  },
  {
   "cell_type": "code",
   "execution_count": 5,
   "metadata": {
    "metadata": {}
   },
   "outputs": [
    {
     "data": {
      "text/plain": [
       "\"I don ' t like what I like you doing?\""
      ]
     },
     "execution_count": 5,
     "metadata": {},
     "output_type": "execute_result"
    }
   ],
   "source": [
    "generate(\"Mi Muhe Nye Mi Muhe Beru.\") #I hate what I do"
   ]
  },
  {
   "cell_type": "code",
   "execution_count": 6,
   "metadata": {
    "metadata": {}
   },
   "outputs": [
    {
     "data": {
      "text/plain": [
       "'What are your two friends doing?'"
      ]
     },
     "execution_count": 6,
     "metadata": {},
     "output_type": "execute_result"
    }
   ],
   "source": [
    "generate(\"Unu Du Tomo Beru Si?\") #What are your two friends doing?"
   ]
  },
  {
   "cell_type": "code",
   "execution_count": 7,
   "metadata": {
    "metadata": {}
   },
   "outputs": [
    {
     "data": {
      "text/plain": [
       "'I like green food.'"
      ]
     },
     "execution_count": 7,
     "metadata": {},
     "output_type": "execute_result"
    }
   ],
   "source": [
    "generate(\"Mi muhe Gusha Boya.\") # I like green."
   ]
  },
  {
   "cell_type": "code",
   "execution_count": 8,
   "metadata": {
    "metadata": {}
   },
   "outputs": [
    {
     "data": {
      "text/plain": [
       "'I like to want the sun to go away, I like cold.'"
      ]
     },
     "execution_count": 8,
     "metadata": {},
     "output_type": "execute_result"
    }
   ],
   "source": [
    "generate(\"Mi muhe Mi Muhe Upa Celi Nini, mi muhe Lata.\") #I wish for the sun to be gone, I appreciate the cold."
   ]
  },
  {
   "cell_type": "code",
   "execution_count": 9,
   "metadata": {
    "metadata": {}
   },
   "outputs": [
    {
     "data": {
      "text/plain": [
       "tensor([[[0.0006, 0.0001, 0.0006,  ..., 0.0005, 0.0009, 0.0006],\n",
       "         [0.0010, 0.0004, 0.0009,  ..., 0.0007, 0.0007, 0.0009],\n",
       "         [0.0010, 0.0029, 0.0010,  ..., 0.0009, 0.0015, 0.0009],\n",
       "         ...,\n",
       "         [0.0009, 0.0004, 0.0010,  ..., 0.0007, 0.0008, 0.0009],\n",
       "         [0.0012, 0.0004, 0.0012,  ..., 0.0017, 0.0008, 0.0012],\n",
       "         [0.0011, 0.0008, 0.0011,  ..., 0.0010, 0.0010, 0.0011]]],\n",
       "       device='cuda:0', grad_fn=<SoftmaxBackward0>)"
      ]
     },
     "execution_count": 9,
     "metadata": {},
     "output_type": "execute_result"
    }
   ],
   "source": [
    "model(torch.tensor([[0, 46, 289, 12, 89, 207, 303, 46, 207, 141]]).cuda(), torch.tensor([[0, 126, 228, 229, 126, 228, 237,  19, 1]]).cuda())"
   ]
  },
  {
   "cell_type": "code",
   "execution_count": 10,
   "metadata": {
    "metadata": {}
   },
   "outputs": [
    {
     "name": "stderr",
     "output_type": "stream",
     "text": [
      "/home/rahulvadhyar/Documents/Hilichurlian-Eng/src/model.py:112: TracerWarning: Converting a tensor to a Python boolean might cause the trace to be incorrect. We can't record the data flow of Python values, so this value will be treated as a constant in the future. This means that the trace might not generalize to other inputs!\n",
      "  assert query_batch == key_batch == value_batch\n",
      "/home/rahulvadhyar/Documents/Hilichurlian-Eng/src/model.py:113: TracerWarning: Converting a tensor to a Python boolean might cause the trace to be incorrect. We can't record the data flow of Python values, so this value will be treated as a constant in the future. This means that the trace might not generalize to other inputs!\n",
      "  assert query_channels == key_channels == value_channels\n",
      "/home/rahulvadhyar/.local/lib/python3.12/site-packages/torch/jit/_trace.py:1116: TracerWarning: Output nr 1. of the traced function does not match the corresponding output of the Python function. Detailed error:\n",
      "Tensor-likes are not close!\n",
      "\n",
      "Mismatched elements: 7530 / 8040 (93.7%)\n",
      "Greatest absolute difference: 0.0671837329864502 at index (0, 3, 89) (up to 1e-05 allowed)\n",
      "Greatest relative difference: 4.217129647113587 at index (0, 0, 377) (up to 1e-05 allowed)\n",
      "  _check_trace(\n"
     ]
    }
   ],
   "source": [
    "model = torch.jit.trace(model, (torch.tensor([[0, 46, 289, 12, 89, 207, 303, 46, 207, 141]]).cuda(), torch.tensor([[0, 126, 228, 229, 126, 228, 237,  19, 1]]).cuda()))"
   ]
  },
  {
   "cell_type": "code",
   "execution_count": 11,
   "metadata": {
    "metadata": {}
   },
   "outputs": [],
   "source": [
    "model = torch.jit.script(model)"
   ]
  },
  {
   "cell_type": "code",
   "execution_count": null,
   "metadata": {},
   "outputs": [],
   "source": []
  }
 ],
 "metadata": {
  "kernelspec": {
   "display_name": "Python 3",
   "language": "python",
   "name": "python3"
  },
  "language_info": {
   "codemirror_mode": {
    "name": "ipython",
    "version": 3
   },
   "file_extension": ".py",
   "mimetype": "text/x-python",
   "name": "python",
   "nbconvert_exporter": "python",
   "pygments_lexer": "ipython3",
   "version": "3.12.3"
  }
 },
 "nbformat": 4,
 "nbformat_minor": 2
}
